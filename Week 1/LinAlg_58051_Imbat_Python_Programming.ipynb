{
  "nbformat": 4,
  "nbformat_minor": 0,
  "metadata": {
    "colab": {
      "name": "LinAlg 58051 Imbat - Python Programming.ipynb",
      "provenance": [],
      "collapsed_sections": [],
      "authorship_tag": "ABX9TyP7cRIbg38L5nK5fIIMLKiH",
      "include_colab_link": true
    },
    "kernelspec": {
      "name": "python3",
      "display_name": "Python 3"
    }
  },
  "cells": [
    {
      "cell_type": "markdown",
      "metadata": {
        "id": "view-in-github",
        "colab_type": "text"
      },
      "source": [
        "<a href=\"https://colab.research.google.com/github/jemayne/LinearAlgebra58051/blob/main/Week%201/LinAlg_58051_Imbat_Python_Programming.ipynb\" target=\"_parent\"><img src=\"https://colab.research.google.com/assets/colab-badge.svg\" alt=\"Open In Colab\"/></a>"
      ]
    },
    {
      "cell_type": "markdown",
      "metadata": {
        "id": "K2UyKNdqcttf"
      },
      "source": [
        "# Lab 1: Python Programming"
      ]
    },
    {
      "cell_type": "code",
      "metadata": {
        "id": "KKzg4M5aRt-x"
      },
      "source": [
        "name = input(\"Student Name: \")\r\n",
        "course = input(\"Student Course: \")\r\n",
        "prelim_grade = float(input(\"Prelim Grade:\"))\r\n",
        "midterm_grade = float(input(\"Midterm Grade:\"))\r\n",
        "finals_grade = float(input(\"Finals Grade:\"))\r\n",
        "average = float(0)\r\n",
        "\r\n",
        "average = (prelim_grade*0.3 + midterm_grade*0.3 + finals_grade*0.4)\r\n",
        "\r\n",
        "happy = \"\\U0001F600\"\r\n",
        "laughing = \"\\U0001F606\"\r\n",
        "sad = \"\\U0001F62D\"\r\n",
        "\r\n",
        "if (average > 70.00):\r\n",
        "  print(\"Semestral Grade: {:.2f}\".format(average),happy)\r\n",
        "\r\n",
        "if (average == 70.00):\r\n",
        "  print(\"Semestral Grade: {:.2f}\".format(average),laughing) \r\n",
        "\r\n",
        "if (average < 70.00):\r\n",
        "  print(\"Semestral Grade: {:.2f}\".format(average),sad) \r\n",
        "\r\n"
      ],
      "execution_count": null,
      "outputs": []
    }
  ]
}