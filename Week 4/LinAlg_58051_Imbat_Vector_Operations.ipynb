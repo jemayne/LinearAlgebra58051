{
  "nbformat": 4,
  "nbformat_minor": 0,
  "metadata": {
    "colab": {
      "name": "LinAlg 58051 Imbat - Vector Operations.ipynb",
      "provenance": [],
      "authorship_tag": "ABX9TyMy8/ApcawWxjFQneEzwf2x",
      "include_colab_link": true
    },
    "kernelspec": {
      "name": "python3",
      "display_name": "Python 3"
    }
  },
  "cells": [
    {
      "cell_type": "markdown",
      "metadata": {
        "id": "view-in-github",
        "colab_type": "text"
      },
      "source": [
        "<a href=\"https://colab.research.google.com/github/jemayne/LinearAlgebra58051/blob/main/Week%204/LinAlg_58051_Imbat_Vector_Operations.ipynb\" target=\"_parent\"><img src=\"https://colab.research.google.com/assets/colab-badge.svg\" alt=\"Open In Colab\"/></a>"
      ]
    },
    {
      "cell_type": "markdown",
      "metadata": {
        "id": "UQPRNwRPmU5G"
      },
      "source": [
        "$$\r\n",
        "A = \\begin{bmatrix}3\\\\6\\\\4 \\end{bmatrix},\r\n",
        "B = \\begin{bmatrix}6\\\\1\\\\2 \\end{bmatrix},\r\n",
        "C = \\begin{bmatrix}-3\\\\-1\\\\3 \\end{bmatrix},\r\n",
        "D = \\begin{bmatrix}1\\\\-3\\\\4 \\end{bmatrix},\r\n",
        "E = \\begin{bmatrix}-2\\\\7\\\\5 \\end{bmatrix} $$\r\n",
        "\r\n"
      ]
    },
    {
      "cell_type": "code",
      "metadata": {
        "id": "1TNlU24mR5cb"
      },
      "source": [
        "import numpy as np"
      ],
      "execution_count": null,
      "outputs": []
    },
    {
      "cell_type": "code",
      "metadata": {
        "id": "W0IwpGJoRss1"
      },
      "source": [
        "A = np.array([3,6,4])\r\n",
        "B = np.array([6,1,2])\r\n",
        "C = np.array([-3,-1,3])\r\n",
        "D = np.array([1,-3,4])\r\n",
        "E = np.array([-2,7,5])"
      ],
      "execution_count": null,
      "outputs": []
    },
    {
      "cell_type": "code",
      "metadata": {
        "id": "3wCxZXf_SEN0"
      },
      "source": [
        "import math"
      ],
      "execution_count": null,
      "outputs": []
    },
    {
      "cell_type": "code",
      "metadata": {
        "colab": {
          "base_uri": "https://localhost:8080/"
        },
        "id": "TOCPoQZRSH-u",
        "outputId": "60479878-9fb3-45df-e8c7-1f64f800c584"
      },
      "source": [
        "Ans1 = math.sqrt(sum(A**2))\r\n",
        "Ans2 = math.sqrt(sum(B**2))\r\n",
        "Ans3 = math.sqrt(sum(C**2))\r\n",
        "Ans4 = math.sqrt(sum(D**2))\r\n",
        "Ans5 = math.sqrt(sum(E**2))\r\n",
        "print(Ans1, Ans2, Ans3, Ans4, Ans5)"
      ],
      "execution_count": null,
      "outputs": [
        {
          "output_type": "stream",
          "text": [
            "7.810249675906654 6.4031242374328485 4.358898943540674 5.0990195135927845 8.831760866327848\n"
          ],
          "name": "stdout"
        }
      ]
    },
    {
      "cell_type": "code",
      "metadata": {
        "colab": {
          "base_uri": "https://localhost:8080/"
        },
        "id": "qNf0Sp46R2P0",
        "outputId": "f716bdc9-c05e-4ad4-a215-ee16f1a84c47"
      },
      "source": [
        "print(np.linalg.norm(A), np.linalg.norm(B), np.linalg.norm(C), np.linalg.norm(D), np.linalg.norm(E))"
      ],
      "execution_count": null,
      "outputs": [
        {
          "output_type": "stream",
          "text": [
            "7.810249675906654 6.4031242374328485 4.358898943540674 5.0990195135927845 8.831760866327848\n"
          ],
          "name": "stdout"
        }
      ]
    },
    {
      "cell_type": "markdown",
      "metadata": {
        "id": "BeMckSRED_-l"
      },
      "source": [
        "Checking using other functions as well:"
      ]
    },
    {
      "cell_type": "code",
      "metadata": {
        "colab": {
          "base_uri": "https://localhost:8080/"
        },
        "id": "4SVr4Xv1Bvgx",
        "outputId": "0cf8cf93-7dff-43ad-e14a-d2e5c2cd7d21"
      },
      "source": [
        "Ans2 = math.sqrt(A[0]**2 + A[1]**2 + A[2]**2)\r\n",
        "print(Ans2)"
      ],
      "execution_count": null,
      "outputs": [
        {
          "output_type": "stream",
          "text": [
            "7.810249675906654\n"
          ],
          "name": "stdout"
        }
      ]
    },
    {
      "cell_type": "code",
      "metadata": {
        "colab": {
          "base_uri": "https://localhost:8080/"
        },
        "id": "w7jWCzYUcrTh",
        "outputId": "a066b498-4e79-4436-9b9f-a5905e9316c6"
      },
      "source": [
        "Ans3 = math.sqrt(math.pow(E[0], 2) + math.pow(E[1], 2) + math.pow(E[2], 2))\r\n",
        "print(Ans3)"
      ],
      "execution_count": null,
      "outputs": [
        {
          "output_type": "stream",
          "text": [
            "8.831760866327848\n"
          ],
          "name": "stdout"
        }
      ]
    },
    {
      "cell_type": "markdown",
      "metadata": {
        "id": "OLM-MhCjecMq"
      },
      "source": [
        "$$\r\n",
        "F = \\begin{bmatrix}7\\\\-1\\\\3\\\\1 \\end{bmatrix},\r\n",
        "G = \\begin{bmatrix}5\\\\6\\\\1\\\\-2 \\end{bmatrix},\r\n",
        "H = \\begin{bmatrix}4\\\\6\\\\5\\\\1 \\end{bmatrix},\r\n",
        "I = \\begin{bmatrix}1\\\\-3\\\\2\\\\-4 \\end{bmatrix},\r\n",
        "J = \\begin{bmatrix}4\\\\-5\\\\-1\\\\-2 \\end{bmatrix},\r\n",
        "K = \\begin{bmatrix}2\\\\7\\\\3\\\\-4 \\end{bmatrix},\r\n",
        "L = \\begin{bmatrix}8\\\\11\\\\-5\\\\2 \\end{bmatrix},\r\n",
        "M = \\begin{bmatrix}9\\\\-8\\\\1\\\\-12 \\end{bmatrix},\r\n",
        "N = \\begin{bmatrix}12\\\\-5\\\\1\\\\-2 \\end{bmatrix},\r\n",
        "O = \\begin{bmatrix}4\\\\-5\\\\10\\\\-2 \\end{bmatrix} $$\r\n",
        "\r\n"
      ]
    },
    {
      "cell_type": "code",
      "metadata": {
        "id": "-5qbo8tozQtN"
      },
      "source": [
        "import numpy as np"
      ],
      "execution_count": null,
      "outputs": []
    },
    {
      "cell_type": "code",
      "metadata": {
        "id": "DzUiAWlr_3Xx"
      },
      "source": [
        "F = np.array([7,-1,3,1])\r\n",
        "G = np.array([5,6,1,-2])\r\n",
        "H = np.array([4,6,5,1])\r\n",
        "I = np.array([1,-3,2,-4])\r\n",
        "J = np.array([4,-5,-1,-2])\r\n",
        "K = np.array([2,7,3,-4])\r\n",
        "L = np.array([8,11,-5,2])\r\n",
        "M = np.array([9,-8,1,-12])\r\n",
        "N = np.array([12,-5,1,-2])\r\n",
        "O = np.array([4,-5,10,-2])"
      ],
      "execution_count": null,
      "outputs": []
    },
    {
      "cell_type": "code",
      "metadata": {
        "colab": {
          "base_uri": "https://localhost:8080/"
        },
        "id": "vbtCYY_FAVEE",
        "outputId": "e56ef60c-3a44-4381-814a-8967567da634"
      },
      "source": [
        "#import math\r\n",
        "Ans6 = sum(F*G)\r\n",
        "Ans7 = sum(H*I)\r\n",
        "Ans8 = sum(J*K)\r\n",
        "Ans9 = sum(L*M)\r\n",
        "Ans10 = sum(N*O)\r\n",
        "print(Ans6, Ans7, Ans8, Ans9,Ans10)"
      ],
      "execution_count": null,
      "outputs": [
        {
          "output_type": "stream",
          "text": [
            "30 -8 -22 -45 87\n"
          ],
          "name": "stdout"
        }
      ]
    },
    {
      "cell_type": "code",
      "metadata": {
        "colab": {
          "base_uri": "https://localhost:8080/"
        },
        "id": "xtImuhvWP2Td",
        "outputId": "467975d3-6482-4d75-b4b6-e4fa39e3ca2e"
      },
      "source": [
        "print(np.inner(F,G), np.inner(H,I), np.inner(J,K), np.inner(L,M), np.inner(N,O))"
      ],
      "execution_count": null,
      "outputs": [
        {
          "output_type": "stream",
          "text": [
            "30 -8 -22 -45 87\n"
          ],
          "name": "stdout"
        }
      ]
    },
    {
      "cell_type": "markdown",
      "metadata": {
        "id": "PWnWa-JsfRyE"
      },
      "source": [
        "GIVEN:\r\n",
        "\r\n",
        "$$ ((A^2 + B^2 + C^2) * (A * (B + A*B)./C))*||A + B + C||$$\r\n",
        "\r\n",
        "$$A = \\begin{bmatrix}-0.4\\\\4.3\\\\-0.6\\end{bmatrix}, B = \\begin{bmatrix}-0.2\\\\0.2\\\\1\\end{bmatrix}, C = \\begin{bmatrix}-0.2\\\\2.1\\\\-1.5\\end{bmatrix}$$"
      ]
    },
    {
      "cell_type": "code",
      "metadata": {
        "id": "5oNiCz5HAhQM"
      },
      "source": [
        "import numpy as np\r\n",
        "\r\n",
        "A = np.array([-0.4, 4.3, -0.6])\r\n",
        "B = np.array([-0.2, 0.2, 1])\r\n",
        "C = np.array([-0.2, 2.1, -1.5])"
      ],
      "execution_count": 23,
      "outputs": []
    },
    {
      "cell_type": "code",
      "metadata": {
        "id": "-whHRtE2g5uN",
        "colab": {
          "base_uri": "https://localhost:8080/"
        },
        "outputId": "0717766f-7169-465c-97a1-358f7782d2c0"
      },
      "source": [
        "Ans11 = A.dot(A)+B.dot(B)+C.dot(C)\r\n",
        "Ans12 = (A*(B+A*B)/C)\r\n",
        "Ans13 = np.linalg.norm(A+B+C)\r\n",
        "Ans14 = Ans11*Ans12*Ans13\r\n",
        "\r\n",
        "print(Ans14)"
      ],
      "execution_count": 24,
      "outputs": [
        {
          "output_type": "stream",
          "text": [
            "[-43.32710846 391.83523878  28.88473897]\n"
          ],
          "name": "stdout"
        }
      ]
    },
    {
      "cell_type": "code",
      "metadata": {
        "id": "RQnDI87Hd77S"
      },
      "source": [
        "import matplotlib.pyplot as plt"
      ],
      "execution_count": 26,
      "outputs": []
    },
    {
      "cell_type": "code",
      "metadata": {
        "colab": {
          "base_uri": "https://localhost:8080/",
          "height": 265
        },
        "id": "e0lz5IJjbjy1",
        "outputId": "8e33c557-58b2-4ead-e70b-8ec2127f57de"
      },
      "source": [
        "fig = plt.figure()\r\n",
        "Ans15 = fig.gca(projection='3d')\r\n",
        "Ans15.quiver(0,0,0, Ans14[0], Ans14[1], Ans14[2], colors = 'Salmon')\r\n",
        "Ans15.set_xlim([-50,400])\r\n",
        "Ans15.set_ylim([-50,400])\r\n",
        "Ans15.set_zlim([-50,400])\r\n",
        "plt.show"
      ],
      "execution_count": 27,
      "outputs": [
        {
          "output_type": "execute_result",
          "data": {
            "text/plain": [
              "<function matplotlib.pyplot.show>"
            ]
          },
          "metadata": {
            "tags": []
          },
          "execution_count": 27
        },
        {
          "output_type": "display_data",
          "data": {
            "image/png": "[encoded data removed]",
            "text/plain": [
              "<Figure size 432x288 with 1 Axes>"
            ]
          },
          "metadata": {
            "tags": [],
            "needs_background": "light"
          }
        }
      ]
    }
  ]
}