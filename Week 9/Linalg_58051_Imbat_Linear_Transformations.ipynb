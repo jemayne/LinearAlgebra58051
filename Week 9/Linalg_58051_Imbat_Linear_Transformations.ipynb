{
  "nbformat": 4,
  "nbformat_minor": 0,
  "metadata": {
    "colab": {
      "name": "Linalg_58051_Imbat_Linear Transformations.ipynb",
      "provenance": [],
      "collapsed_sections": [],
      "authorship_tag": "ABX9TyP5xajVwoB3fJfw6POlHWtt",
      "include_colab_link": true
    },
    "kernelspec": {
      "name": "python3",
      "display_name": "Python 3"
    },
    "language_info": {
      "name": "python"
    }
  },
  "cells": [
    {
      "cell_type": "markdown",
      "metadata": {
        "id": "view-in-github",
        "colab_type": "text"
      },
      "source": [
        "<a href=\"https://colab.research.google.com/github/jemayne/LinearAlgebra58051/blob/main/Week%209/Linalg_58051_Imbat_Linear_Transformations.ipynb\" target=\"_parent\"><img src=\"https://colab.research.google.com/assets/colab-badge.svg\" alt=\"Open In Colab\"/></a>"
      ]
    },
    {
      "cell_type": "code",
      "metadata": {
        "id": "BR8VlqretdhR"
      },
      "source": [
        "import numpy as np\n",
        "import matplotlib.pyplot as plt"
      ],
      "execution_count": 1,
      "outputs": []
    },
    {
      "cell_type": "code",
      "metadata": {
        "colab": {
          "base_uri": "https://localhost:8080/",
          "height": 265
        },
        "id": "E91Hf9EAt_Cc",
        "outputId": "93bba578-0dee-4742-dc67-bd5b506acb7e"
      },
      "source": [
        "J = np.array([\n",
        "            [3, 0],\n",
        "            [0, 3]\n",
        "])\n",
        "\n",
        "c = np.arange(0, 1, .20)\n",
        "plt.scatter(c*J[0,0], c*J[1,0], color = 'SteelBlue')\n",
        "plt.scatter(c*J[0,1], c*J[1,1], color = 'Violet')\n",
        "\n",
        "plt.xlim(-5,5)\n",
        "plt.ylim(-5,5)\n",
        "plt.grid()\n",
        "plt.show()"
      ],
      "execution_count": 9,
      "outputs": [
        {
          "output_type": "display_data",
          "data": {
            "image/png": "[encoded data removed]",
            "text/plain": [
              "<Figure size 432x288 with 1 Axes>"
            ]
          },
          "metadata": {
            "tags": [],
            "needs_background": "light"
          }
        }
      ]
    },
    {
      "cell_type": "code",
      "metadata": {
        "colab": {
          "base_uri": "https://localhost:8080/",
          "height": 265
        },
        "id": "HzNt5GKltBfI",
        "outputId": "141245a0-cb6c-40d1-92b8-2782425273aa"
      },
      "source": [
        "E = np.array([\n",
        "            [-3, 0],\n",
        "            [0, -3]\n",
        "])\n",
        "\n",
        "c = np.arange(0, 1, .20)\n",
        "plt.scatter(c*E[0,0], c*E[1,0], color = 'SteelBlue')\n",
        "plt.scatter(c*E[0,1], c*E[1,1], color = 'Violet')\n",
        "\n",
        "plt.xlim(-5, 5)\n",
        "plt.ylim(-5, 5)\n",
        "plt.grid()\n",
        "plt.show()"
      ],
      "execution_count": 30,
      "outputs": [
        {
          "output_type": "display_data",
          "data": {
            "image/png": "[encoded data removed]",
            "text/plain": [
              "<Figure size 432x288 with 1 Axes>"
            ]
          },
          "metadata": {
            "tags": [],
            "needs_background": "light"
          }
        }
      ]
    },
    {
      "cell_type": "code",
      "metadata": {
        "colab": {
          "base_uri": "https://localhost:8080/",
          "height": 265
        },
        "id": "deiWNhT7tI3f",
        "outputId": "7aaa0408-217d-4273-8507-b46f3c784f33"
      },
      "source": [
        "Z = np.array([\n",
        "            [2, 4],\n",
        "            [0, 3]\n",
        "])\n",
        "\n",
        "c = np.arange(0, 1, .20)\n",
        "plt.scatter(c*Z[0,0], c*Z[1,0], color = 'SteelBlue')\n",
        "plt.scatter(c*Z[0,1], c*Z[1,1], color = 'Violet')\n",
        "\n",
        "plt.xlim(-5, 5)\n",
        "plt.ylim(-5, 5)\n",
        "plt.grid()\n",
        "plt.show()"
      ],
      "execution_count": 28,
      "outputs": [
        {
          "output_type": "display_data",
          "data": {
            "image/png": "[encoded data removed]",
            "text/plain": [
              "<Figure size 432x288 with 1 Axes>"
            ]
          },
          "metadata": {
            "tags": [],
            "needs_background": "light"
          }
        }
      ]
    }
  ]
}