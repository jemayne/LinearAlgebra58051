{
  "nbformat": 4,
  "nbformat_minor": 0,
  "metadata": {
    "colab": {
      "name": "LinAlg 58051 Imbat - Spans and Linear Combinations .ipynb",
      "provenance": [],
      "authorship_tag": "ABX9TyNsealffPGh7pLvIfWneRTA",
      "include_colab_link": true
    },
    "kernelspec": {
      "name": "python3",
      "display_name": "Python 3"
    }
  },
  "cells": [
    {
      "cell_type": "markdown",
      "metadata": {
        "id": "view-in-github",
        "colab_type": "text"
      },
      "source": [
        "<a href=\"https://colab.research.google.com/github/jemayne/LinearAlgebra58051/blob/main/Week%203/LinAlg_58051_Imbat_Spans_and_Linear_Combinations_.ipynb\" target=\"_parent\"><img src=\"https://colab.research.google.com/assets/colab-badge.svg\" alt=\"Open In Colab\"/></a>"
      ]
    },
    {
      "cell_type": "markdown",
      "metadata": {
        "id": "fywlOCPYHRMS"
      },
      "source": [
        "$$ M = 2\\hat{x} + 4\\hat{y} \\\\\r\n",
        "A = 3\\hat{x} - 2\\hat{y}\\\\ \r\n",
        "Y = 5\\hat{x} + 8\\hat{y} \\\\\r\n",
        "N = 6\\hat{x} - 3\\hat{y}\\\\\r\n",
        "E = 7\\hat{x} + 4\\hat{y}$$"
      ]
    },
    {
      "cell_type": "markdown",
      "metadata": {
        "id": "DWV3PzteHTkj"
      },
      "source": [
        "$$M = \\begin{bmatrix} 2\\\\ 4\\end{bmatrix},\r\n",
        "A = \\begin{bmatrix} 3\\\\ -2\\end{bmatrix},\r\n",
        "Y = \\begin{bmatrix} 5\\\\ 8\\end{bmatrix},\r\n",
        "N = \\begin{bmatrix} 6\\\\ -3\\end{bmatrix},\r\n",
        "E = \\begin{bmatrix} 7\\\\ 4\\end{bmatrix}\\\\ $$"
      ]
    },
    {
      "cell_type": "code",
      "metadata": {
        "id": "7vEU-5XHHPcK"
      },
      "source": [
        "import numpy as np\r\n",
        "import matplotlib.pyplot as plt"
      ],
      "execution_count": 9,
      "outputs": []
    },
    {
      "cell_type": "code",
      "metadata": {
        "id": "VDBO9qKIHXtn"
      },
      "source": [
        "M = np.array([2,4])\r\n",
        "A = np.array([3,-2])\r\n",
        "Y = np.array([5,8])\r\n",
        "N = np.array([6,-3])\r\n",
        "E = np.array([7,4])"
      ],
      "execution_count": 10,
      "outputs": []
    },
    {
      "cell_type": "code",
      "metadata": {
        "colab": {
          "base_uri": "https://localhost:8080/"
        },
        "id": "8S0qnS4bHab8",
        "outputId": "9c626021-c5b5-47bd-9446-7206c9592729"
      },
      "source": [
        "print(M, A, Y, N, E)"
      ],
      "execution_count": 3,
      "outputs": [
        {
          "output_type": "stream",
          "text": [
            "[2 4] [ 3 -2] [5 8] [ 6 -3] [7 4]\n"
          ],
          "name": "stdout"
        }
      ]
    },
    {
      "cell_type": "code",
      "metadata": {
        "colab": {
          "base_uri": "https://localhost:8080/"
        },
        "id": "g_orghtHHb3s",
        "outputId": "215d1130-5827-4417-c7de-8afc449339a6"
      },
      "source": [
        "L1 = N + E + M\r\n",
        "L2 = Y + A + E\r\n",
        "L3 = L1 + L2\r\n",
        "print(L3)"
      ],
      "execution_count": 4,
      "outputs": [
        {
          "output_type": "stream",
          "text": [
            "[30 15]\n"
          ],
          "name": "stdout"
        }
      ]
    },
    {
      "cell_type": "markdown",
      "metadata": {
        "id": "n9bGLUOrHf_z"
      },
      "source": [
        "$$\r\n",
        "E = c\\cdot \\begin{bmatrix} 7\\\\4 \\\\\\end{bmatrix}\\\\\r\n",
        "M = c\\cdot \\begin{bmatrix} 2\\\\4 \\\\\\end{bmatrix}\\\\\r\n",
        "A = c\\cdot \\begin{bmatrix} 3\\\\-2 \\\\\\end{bmatrix}\\\\ $$"
      ]
    },
    {
      "cell_type": "code",
      "metadata": {
        "colab": {
          "base_uri": "https://localhost:8080/",
          "height": 268
        },
        "id": "Lc9k-EXCHdhs",
        "outputId": "29a266f0-8104-465c-fbd4-b367fa6983b8"
      },
      "source": [
        "E = np.array([7,4])\r\n",
        "M = np.array([2,4])\r\n",
        "A = np.array([3,-2])\r\n",
        "\r\n",
        "c = np.arange(-20,20,0.015)\r\n",
        "plt.scatter(c*E[0],c*E[1], color= 'Orchid')\r\n",
        "plt.scatter(c*M[0],c*M[1], color= 'LightSkyBlue')\r\n",
        "plt.scatter(c*A[0],c*A[1], color= 'PaleGreen')\r\n",
        "\r\n",
        "plt.xlim(-20,20)\r\n",
        "plt.ylim(-20,20)\r\n",
        "plt.axhline(y=0, color='Black')\r\n",
        "plt.axvline(x=0, color='Black')\r\n",
        "plt.grid()\r\n",
        "plt.show()"
      ],
      "execution_count": 5,
      "outputs": [
        {
          "output_type": "display_data",
          "data": {
            "image/png": "[encoded data removed]",
            "text/plain": [
              "<Figure size 432x288 with 1 Axes>"
            ]
          },
          "metadata": {
            "tags": [],
            "needs_background": "light"
          }
        }
      ]
    },
    {
      "cell_type": "markdown",
      "metadata": {
        "id": "kL1e4LCuHijz"
      },
      "source": [
        "$$\r\n",
        "S = \\begin{Bmatrix} c_1 \\cdot\\begin{bmatrix} 5\\\\8 \\\\\\end{bmatrix}, \r\n",
        "c_2 \\cdot \\begin{bmatrix} 6\\\\-3 \\\\\\end{bmatrix},\r\n",
        "c_3 \\cdot \\begin{bmatrix} 3\\\\-2 \\\\\\end{bmatrix}\\end{Bmatrix} $$"
      ]
    },
    {
      "cell_type": "code",
      "metadata": {
        "colab": {
          "base_uri": "https://localhost:8080/",
          "height": 265
        },
        "id": "NTCx8W0MHkBL",
        "outputId": "a50935f2-5d09-4223-9db2-8fc64f01cf15"
      },
      "source": [
        "Y = np.array([5,8])\r\n",
        "N = np.array([6,-3])\r\n",
        "A = np.array([3,-2])\r\n",
        "\r\n",
        "S = np.arange(-5,5,0.50)\r\n",
        "\r\n",
        "c1, c2, c3= np.meshgrid(S,S,S)\r\n",
        "R = Y + N + A\r\n",
        "spanSx = c1*Y[0] + c2*N[0] + c3*A[0]\r\n",
        "spanSy = c1*Y[1] + c2*N[1] + c3*A[1]\r\n",
        "plt.scatter(spanSx,spanSy, s=3, alpha=.75, color = 'Orchid')\r\n",
        "\r\n",
        "plt.xlim(-50,50)\r\n",
        "plt.ylim(-50,50)\r\n",
        "plt.axhline(y=0, color='Black')\r\n",
        "plt.axvline(x=0, color='Black')\r\n",
        "plt.grid()\r\n",
        "plt.show()"
      ],
      "execution_count": 6,
      "outputs": [
        {
          "output_type": "display_data",
          "data": {
            "image/png": "[encoded data removed]",
            "text/plain": [
              "<Figure size 432x288 with 1 Axes>"
            ]
          },
          "metadata": {
            "tags": [],
            "needs_background": "light"
          }
        }
      ]
    },
    {
      "cell_type": "markdown",
      "metadata": {
        "id": "oZp0JJhxHmfd"
      },
      "source": [
        "$$\r\n",
        "S = \\begin{Bmatrix} c_1 \\cdot\\begin{bmatrix} 2\\\\4\\\\6 \\\\\\end{bmatrix}, \r\n",
        "c_2 \\cdot \\begin{bmatrix} -3\\\\-1\\\\2\\\\\\end{bmatrix},\r\n",
        "c_3 \\cdot \\begin{bmatrix} 1\\\\0\\\\-2\\\\\\end{bmatrix},\r\n",
        "c_4 \\cdot \\begin{bmatrix} -2\\\\2\\\\4\\\\\\end{bmatrix},\r\n",
        "c_5 \\cdot \\begin{bmatrix} 5\\\\0\\\\3\\\\\\end{bmatrix}\\end{Bmatrix} $$"
      ]
    },
    {
      "cell_type": "code",
      "metadata": {
        "colab": {
          "base_uri": "https://localhost:8080/",
          "height": 268
        },
        "id": "I8YCl2YwHn5w",
        "outputId": "a79c429c-e106-4328-bde4-be8160d566e7"
      },
      "source": [
        "vectorJ = np.array([2,4,6])\r\n",
        "vectorE = np.array([-3,-1,2])\r\n",
        "vectorZ = np.array([1,0,-2])\r\n",
        "vectorR = np.array([-2,2,4])\r\n",
        "#vectorA = np.array([5,0,3])\r\n",
        "\r\n",
        "S = np.arange(-10,10,3.5)\r\n",
        "\r\n",
        "c1, c2, c3, c4 = np.meshgrid(S,S,S,S)\r\n",
        "R = vectorJ + vectorE + vectorZ + vectorR #+ vectorA\r\n",
        "spanSx = c1*vectorJ[0] + c2*vectorE[0] + c3*vectorZ[0] + c4*vectorR[0] #- c5*vectorA[0]\r\n",
        "spanSy = c1*vectorJ[1] + c2*vectorE[1] + c3*vectorZ[1] + c4*vectorR[1] #+ c5*vectorA[1]\r\n",
        "plt.scatter(spanSx,spanSy, s=15, alpha=1, color = 'DarkOliveGreen')\r\n",
        "\r\n",
        "plt.xlim(-100,100)\r\n",
        "plt.ylim(-100,100)\r\n",
        "plt.axhline(y=0, color='Black')\r\n",
        "plt.axvline(x=0, color='Black')\r\n",
        "plt.grid()\r\n",
        "plt.show()"
      ],
      "execution_count": 7,
      "outputs": [
        {
          "output_type": "display_data",
          "data": {
            "image/png": "[encoded data removed]",
            "text/plain": [
              "<Figure size 432x288 with 1 Axes>"
            ]
          },
          "metadata": {
            "tags": [],
            "needs_background": "light"
          }
        }
      ]
    },
    {
      "cell_type": "markdown",
      "metadata": {
        "id": "BqLHSRvvHxYj"
      },
      "source": [
        "$$\r\n",
        "S = \\begin{Bmatrix} c_1 \\cdot\\begin{bmatrix} 2\\\\4\\\\6\\\\5 \\\\\\end{bmatrix}, \r\n",
        "c_2 \\cdot \\begin{bmatrix} -3\\\\-1\\\\2\\\\0\\end{bmatrix},\r\n",
        "c_3 \\cdot \\begin{bmatrix} 1\\\\3\\\\2\\\\4\\end{bmatrix}\\end{Bmatrix} $$"
      ]
    },
    {
      "cell_type": "code",
      "metadata": {
        "colab": {
          "base_uri": "https://localhost:8080/",
          "height": 265
        },
        "id": "9cqg9iFBHx3X",
        "outputId": "69ead47d-e677-4dd8-cd28-c9665d0a9111"
      },
      "source": [
        "vectorL = np.array([2,0,-3,1])\r\n",
        "vectorK = np.array([5,2,-1,3])\r\n",
        "vectorH = np.array([1,3,2,4])\r\n",
        "#vectorI= np.array([3,-1,0,1])\r\n",
        "\r\n",
        "S = np.arange(-5,5,0.75)\r\n",
        "\r\n",
        "c1, c2 ,c3= np.meshgrid(S,S,S,)\r\n",
        "R = vectorL + vectorK + vectorH\r\n",
        "spanSx = c1*vectorL[0] + c2*vectorK[0] + c3*vectorH[0] \r\n",
        "spanSy = c1*vectorL[1] + c2*vectorK[1] + c3*vectorH[1] \r\n",
        "plt.scatter(spanSx,spanSy, s=10, alpha=1, color = 'MediumPurple')\r\n",
        "\r\n",
        "plt.xlim(-50,50)\r\n",
        "plt.ylim(-50,50)\r\n",
        "plt.axhline(y=0, color='Black')\r\n",
        "plt.axvline(x=0, color='Black')\r\n",
        "plt.grid()\r\n",
        "plt.show()"
      ],
      "execution_count": 8,
      "outputs": [
        {
          "output_type": "display_data",
          "data": {
            "image/png": "[encoded data removed]",
            "text/plain": [
              "<Figure size 432x288 with 1 Axes>"
            ]
          },
          "metadata": {
            "tags": [],
            "needs_background": "light"
          }
        }
      ]
    }
  ]
}