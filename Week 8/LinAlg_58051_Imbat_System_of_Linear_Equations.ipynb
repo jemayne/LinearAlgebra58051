{
  "nbformat": 4,
  "nbformat_minor": 0,
  "metadata": {
    "colab": {
      "name": "LinAlg_58051_Imbat_System of Linear Equations.ipynb",
      "provenance": [],
      "collapsed_sections": [],
      "authorship_tag": "ABX9TyNuBIL0Cwn8H9gRuJM2ZRcN",
      "include_colab_link": true
    },
    "kernelspec": {
      "name": "python3",
      "display_name": "Python 3"
    },
    "language_info": {
      "name": "python"
    }
  },
  "cells": [
    {
      "cell_type": "markdown",
      "metadata": {
        "id": "view-in-github",
        "colab_type": "text"
      },
      "source": [
        "<a href=\"https://colab.research.google.com/github/jemayne/LinearAlgebra58051/blob/main/Week%208/LinAlg_58051_Imbat_System_of_Linear_Equations.ipynb\" target=\"_parent\"><img src=\"https://colab.research.google.com/assets/colab-badge.svg\" alt=\"Open In Colab\"/></a>"
      ]
    },
    {
      "cell_type": "markdown",
      "metadata": {
        "id": "QKXkiONVzE2L"
      },
      "source": [
        "$$\n",
        "J = \\left\\{\n",
        "    \\begin{array}\\\\\n",
        "        x+3y+z=3\\\\ \n",
        "        7x -2y -z=1 \\\\\n",
        "        -4x + 9y +2z=-5\n",
        "    \\end{array}\n",
        "\\right. $$\n",
        "\n",
        "$$\n",
        "\\begin{bmatrix}1&3&1\\\\7&-2&-1\\\\-4&9&2\\end{bmatrix} \\cdot \\begin{bmatrix}x\\\\ y\\\\ z\\end{bmatrix} = \\begin{bmatrix}3\\\\1\\\\-5\\end{bmatrix}\n",
        "$$"
      ]
    },
    {
      "cell_type": "code",
      "metadata": {
        "id": "RhiL_n61i7pI"
      },
      "source": [
        "import numpy as np"
      ],
      "execution_count": 2,
      "outputs": []
    },
    {
      "cell_type": "code",
      "metadata": {
        "id": "7X22knlTEhMo"
      },
      "source": [
        "X = np.array([\n",
        "              [1,3,1],\n",
        "              [7,-2,-1],\n",
        "              [-4,9,2]\n",
        "])\n",
        "\n",
        "Y = np.array([\n",
        "              [3],\n",
        "              [1],\n",
        "              [-5]\n",
        "])"
      ],
      "execution_count": 9,
      "outputs": []
    },
    {
      "cell_type": "code",
      "metadata": {
        "colab": {
          "base_uri": "https://localhost:8080/"
        },
        "id": "H5WJq-K8Fup1",
        "outputId": "bb948ff9-f438-470c-a919-0d0ff8bfa35d"
      },
      "source": [
        "print(\"X = \\n\", X)\n",
        "print(\"\\nY = \\n\", Y)"
      ],
      "execution_count": 10,
      "outputs": [
        {
          "output_type": "stream",
          "text": [
            "X = \n",
            " [[ 1  3  1]\n",
            " [ 7 -2 -1]\n",
            " [-4  9  2]]\n",
            "\n",
            "Y = \n",
            " [[ 3]\n",
            " [ 1]\n",
            " [-5]]\n"
          ],
          "name": "stdout"
        }
      ]
    },
    {
      "cell_type": "code",
      "metadata": {
        "colab": {
          "base_uri": "https://localhost:8080/"
        },
        "id": "zBmn3vXxFCO2",
        "outputId": "5838e815-33c4-4f6b-9114-d751cf1e122f"
      },
      "source": [
        "X_inv = np.linalg.inv(X)\n",
        "Xinv_Y = X_inv @ Y\n",
        "\n",
        "print(Xinv_Y)"
      ],
      "execution_count": 11,
      "outputs": [
        {
          "output_type": "stream",
          "text": [
            "[[ 0.76666667]\n",
            " [-2.13333333]\n",
            " [ 8.63333333]]\n"
          ],
          "name": "stdout"
        }
      ]
    },
    {
      "cell_type": "code",
      "metadata": {
        "colab": {
          "base_uri": "https://localhost:8080/"
        },
        "id": "wH5pnmALGfgk",
        "outputId": "a7490a1f-8fd8-47cc-99f3-f147a851740a"
      },
      "source": [
        "x_y = np.linalg.solve(X, Y)\n",
        "\n",
        "print(x_y)"
      ],
      "execution_count": 12,
      "outputs": [
        {
          "output_type": "stream",
          "text": [
            "[[ 0.76666667]\n",
            " [-2.13333333]\n",
            " [ 8.63333333]]\n"
          ],
          "name": "stdout"
        }
      ]
    },
    {
      "cell_type": "code",
      "metadata": {
        "colab": {
          "base_uri": "https://localhost:8080/"
        },
        "id": "uUyMPN2ayY-G",
        "outputId": "910623a0-9f95-477e-ad36-773d1127941a"
      },
      "source": [
        "ans1 = X @ Xinv_Y\n",
        "np.allclose(ans1, Y)"
      ],
      "execution_count": 13,
      "outputs": [
        {
          "output_type": "execute_result",
          "data": {
            "text/plain": [
              "True"
            ]
          },
          "metadata": {
            "tags": []
          },
          "execution_count": 13
        }
      ]
    }
  ]
}