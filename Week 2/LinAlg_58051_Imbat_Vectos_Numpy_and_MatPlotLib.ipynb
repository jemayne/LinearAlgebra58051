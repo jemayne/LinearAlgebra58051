{
  "nbformat": 4,
  "nbformat_minor": 0,
  "metadata": {
    "colab": {
      "name": "LinAlg 58051 Imbat - Vectos: Numpy and MatPlotLib.ipynb",
      "provenance": [],
      "include_colab_link": true
    },
    "kernelspec": {
      "name": "python3",
      "display_name": "Python 3"
    }
  },
  "cells": [
    {
      "cell_type": "markdown",
      "metadata": {
        "id": "view-in-github",
        "colab_type": "text"
      },
      "source": [
        "<a href=\"https://colab.research.google.com/github/jemayne/LinearAlgebra58051/blob/main/Week%202/LinAlg_58051_Imbat_Vectos_Numpy_and_MatPlotLib.ipynb\" target=\"_parent\"><img src=\"https://colab.research.google.com/assets/colab-badge.svg\" alt=\"Open In Colab\"/></a>"
      ]
    },
    {
      "cell_type": "markdown",
      "metadata": {
        "id": "noL0cuo3Ybu1"
      },
      "source": [
        "$$J = \\begin{bmatrix} 5\\\\ 8\\end{bmatrix},\r\n",
        "E = \\begin{bmatrix} -3\\\\ 4\\end{bmatrix},\r\n",
        "Z = \\begin{bmatrix} 1\\\\ -5\\end{bmatrix},\r\n",
        "R = \\begin{bmatrix} -2\\\\ -7\\end{bmatrix},\r\n",
        "A = \\begin{bmatrix} 8\\\\ 3\\end{bmatrix}\\\\ $$"
      ]
    },
    {
      "cell_type": "code",
      "metadata": {
        "id": "ICDCUhOTwkFo"
      },
      "source": [
        "import numpy as np\r\n",
        "import matplotlib.pyplot as plt\r\n",
        "\r\n",
        "J = np.array([5,8])\r\n",
        "E = np.array([-3,4])\r\n",
        "Z = np.array([1,-5])\r\n",
        "R = np.array([-2,-7])\r\n",
        "A = np.array([8,3])"
      ],
      "execution_count": null,
      "outputs": []
    },
    {
      "cell_type": "code",
      "metadata": {
        "colab": {
          "base_uri": "https://localhost:8080/",
          "height": 330
        },
        "id": "3rEXEPv-wtNg",
        "outputId": "26ea466d-662e-48fa-bf02-7d050a2e357b"
      },
      "source": [
        "L1 = A+Z\r\n",
        "L2 = R-J\r\n",
        "L3 = L1+L2\r\n",
        "print(\"A + J = \", L1)\r\n",
        "print(\"R - E = \", L2)\r\n",
        "print(\"L1 + L2 = \", L3)\r\n",
        "\r\n",
        "plt.xlim(-50, 50)\r\n",
        "plt.ylim(-50, 50)\r\n",
        "plt.axhline(y=0, color = 'black')\r\n",
        "plt.axvline(x=0, color = 'black')\r\n",
        "plt.xlabel(\"Y\")\r\n",
        "plt.ylabel(\"X\")\r\n",
        "\r\n",
        "plt.quiver(0,0, L1[0], L1[1], angles = 'xy', scale_units = 'xy', scale = 1, color = 'LightCoral')\r\n",
        "plt.quiver(L1[0], L1[1], L2[0], L2[1], angles = 'xy', scale_units = 'xy', scale = 1, color = 'DarkRed')\r\n",
        "plt.quiver(0,0, L3[0], L3[1], angles = 'xy', scale_units = 'xy', scale = 1, color = 'Orchid')\r\n",
        "\r\n",
        "\r\n",
        "plt.grid()\r\n",
        "plt.show()\r\n"
      ],
      "execution_count": null,
      "outputs": [
        {
          "output_type": "stream",
          "text": [
            "A + J =  [ 9 -2]\n",
            "R - E =  [ -7 -15]\n",
            "L1 + L2 =  [  2 -17]\n"
          ],
          "name": "stdout"
        },
        {
          "output_type": "display_data",
          "data": {
            "image/png": "[encoded data removed]",
            "text/plain": [
              "<Figure size 432x288 with 1 Axes>"
            ]
          },
          "metadata": {
            "tags": [],
            "needs_background": "light"
          }
        }
      ]
    },
    {
      "cell_type": "code",
      "metadata": {
        "colab": {
          "base_uri": "https://localhost:8080/",
          "height": 330
        },
        "id": "9TI0m5l0aOeF",
        "outputId": "2cfc59db-90a4-4dd7-bef8-ad600789e467"
      },
      "source": [
        "L1 = Z*R\r\n",
        "L2 = A*J\r\n",
        "L3 = L1/L2\r\n",
        "print(L1)\r\n",
        "print(L2)\r\n",
        "print(L3)\r\n",
        "\r\n",
        "plt.xlim(-75, 75)\r\n",
        "plt.ylim(-75, 75)\r\n",
        "plt.axhline(y=0, color = 'black')\r\n",
        "plt.axvline(x=0, color = 'black')\r\n",
        "plt.xlabel(\"Y\")\r\n",
        "plt.ylabel(\"X\")\r\n",
        "\r\n",
        "plt.quiver(0,0, L1[0], L1[1], angles = 'xy', scale_units = 'xy', scale = 1, color = 'DarkGreen')\r\n",
        "plt.quiver(L1[0], L1[1], L2[0], L2[1], angles = 'xy', scale_units = 'xy', scale = 1, color = 'DarkOliveGreen')\r\n",
        "plt.quiver(0,0, L3[0], L3[1], angles = 'xy', scale_units = 'xy', scale = 1, color = 'LimeGreen')\r\n",
        "\r\n",
        "\r\n",
        "plt.grid()\r\n",
        "plt.show()"
      ],
      "execution_count": null,
      "outputs": [
        {
          "output_type": "stream",
          "text": [
            "[-2 35]\n",
            "[40 24]\n",
            "[-0.05        1.45833333]\n"
          ],
          "name": "stdout"
        },
        {
          "output_type": "display_data",
          "data": {
            "image/png": "[encoded data removed]",
            "text/plain": [
              "<Figure size 432x288 with 1 Axes>"
            ]
          },
          "metadata": {
            "tags": [],
            "needs_background": "light"
          }
        }
      ]
    },
    {
      "cell_type": "code",
      "metadata": {
        "colab": {
          "base_uri": "https://localhost:8080/"
        },
        "id": "9gwgx0sjmz3Y",
        "outputId": "053a51d9-d782-46de-a520-eef9a2733592"
      },
      "source": [
        "R = np.sqrt(np.sum(J**2+E**2))\r\n",
        "print(R)"
      ],
      "execution_count": null,
      "outputs": [
        {
          "output_type": "stream",
          "text": [
            "10.677078252031311\n"
          ],
          "name": "stdout"
        }
      ]
    }
  ]
}