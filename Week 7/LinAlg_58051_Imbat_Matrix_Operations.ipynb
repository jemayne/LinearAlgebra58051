{
  "nbformat": 4,
  "nbformat_minor": 0,
  "metadata": {
    "colab": {
      "name": "LinAlg_58051_Imbat_Matrix Operations.ipynb",
      "provenance": [],
      "collapsed_sections": [],
      "authorship_tag": "ABX9TyMAV9fpbSZVND7Ka75lAKm+",
      "include_colab_link": true
    },
    "kernelspec": {
      "name": "python3",
      "display_name": "Python 3"
    },
    "language_info": {
      "name": "python"
    }
  },
  "cells": [
    {
      "cell_type": "markdown",
      "metadata": {
        "id": "view-in-github",
        "colab_type": "text"
      },
      "source": [
        "<a href=\"https://colab.research.google.com/github/jemayne/LinearAlgebra58051/blob/main/Week%207/LinAlg_58051_Imbat_Matrix_Operations.ipynb\" target=\"_parent\"><img src=\"https://colab.research.google.com/assets/colab-badge.svg\" alt=\"Open In Colab\"/></a>"
      ]
    },
    {
      "cell_type": "code",
      "metadata": {
        "id": "Wlbw9ZWD9b1N"
      },
      "source": [
        "import numpy as np"
      ],
      "execution_count": null,
      "outputs": []
    },
    {
      "cell_type": "code",
      "metadata": {
        "id": "O7E06zrS9yto"
      },
      "source": [
        "matrix1 = np.array([\n",
        "                    [2,1,3],\n",
        "                    [5,4,6],\n",
        "                    [8,7,9],\n",
        "])\n",
        "\n",
        "matrix2 = np.array([\n",
        "                    [4,2,6],\n",
        "                    [9,7,5],\n",
        "                    [3,6,2],\n",
        "])\n",
        "\n",
        "matrix3 = np.array([\n",
        "                    [9,6,8],\n",
        "                    [1,5,2],\n",
        "                    [5,7,4],\n",
        "])"
      ],
      "execution_count": null,
      "outputs": []
    },
    {
      "cell_type": "markdown",
      "metadata": {
        "id": "fJJ8WUJO_2o5"
      },
      "source": [
        "1. COMMUTATIVE PROPERTY\n",
        "\n",
        "$\n",
        "AB \\neq BA$\n"
      ]
    },
    {
      "cell_type": "code",
      "metadata": {
        "id": "YtOSlmmm_EEY"
      },
      "source": [
        "AB = matrix1 @ matrix2\n",
        "BA = matrix2 @ matrix1"
      ],
      "execution_count": null,
      "outputs": []
    },
    {
      "cell_type": "code",
      "metadata": {
        "colab": {
          "base_uri": "https://localhost:8080/"
        },
        "id": "60ZtRhYwBEcj",
        "outputId": "a309e909-c9ce-440c-f570-9856f0f25b39"
      },
      "source": [
        "print(\"AB = \\n\", AB)\n",
        "print(\"BA = \\n\", BA)"
      ],
      "execution_count": null,
      "outputs": [
        {
          "output_type": "stream",
          "text": [
            "AB = \n",
            " [[ 26  29  23]\n",
            " [ 74  74  62]\n",
            " [122 119 101]]\n",
            "BA = \n",
            " [[ 66  54  78]\n",
            " [ 93  72 114]\n",
            " [ 52  41  63]]\n"
          ],
          "name": "stdout"
        }
      ]
    },
    {
      "cell_type": "code",
      "metadata": {
        "colab": {
          "base_uri": "https://localhost:8080/"
        },
        "id": "qtZhOOs1BTiC",
        "outputId": "14645ea9-bd97-4b4c-aa2e-51a5630f42b2"
      },
      "source": [
        "np.array_equiv(AB, BA)"
      ],
      "execution_count": null,
      "outputs": [
        {
          "output_type": "execute_result",
          "data": {
            "text/plain": [
              "False"
            ]
          },
          "metadata": {
            "tags": []
          },
          "execution_count": 104
        }
      ]
    },
    {
      "cell_type": "markdown",
      "metadata": {
        "id": "81LQuzfCBbq3"
      },
      "source": [
        "\n",
        "2. DISTRIBUTIVE PROPERTY\n",
        "\n",
        "$\n",
        "A(B + C) = AB + AC$\n",
        "\n"
      ]
    },
    {
      "cell_type": "code",
      "metadata": {
        "id": "z40WLG67B7sq"
      },
      "source": [
        "A_BC = matrix1 @ (matrix2+matrix3)\n",
        "AB_AC = (matrix1 @ matrix2) + (matrix1 @ matrix3)"
      ],
      "execution_count": null,
      "outputs": []
    },
    {
      "cell_type": "code",
      "metadata": {
        "colab": {
          "base_uri": "https://localhost:8080/"
        },
        "id": "UYwIxSNlFH73",
        "outputId": "3c73c543-366c-4a39-d777-8e9235b4c23e"
      },
      "source": [
        "print(\"A(B+C) = \\n\", A_BC)\n",
        "print(\"AB + AC = \\n\", AB_AC)"
      ],
      "execution_count": null,
      "outputs": [
        {
          "output_type": "stream",
          "text": [
            "A(B+C) = \n",
            " [[ 60  67  53]\n",
            " [153 166 134]\n",
            " [246 265 215]]\n",
            "AB + AC = \n",
            " [[ 60  67  53]\n",
            " [153 166 134]\n",
            " [246 265 215]]\n"
          ],
          "name": "stdout"
        }
      ]
    },
    {
      "cell_type": "code",
      "metadata": {
        "colab": {
          "base_uri": "https://localhost:8080/"
        },
        "id": "zuc7LaoQFX1c",
        "outputId": "41f7fd8d-2567-410b-cd23-1fd7ce091402"
      },
      "source": [
        "np.array_equiv(A_BC, AB_AC)"
      ],
      "execution_count": null,
      "outputs": [
        {
          "output_type": "execute_result",
          "data": {
            "text/plain": [
              "True"
            ]
          },
          "metadata": {
            "tags": []
          },
          "execution_count": 107
        }
      ]
    },
    {
      "cell_type": "markdown",
      "metadata": {
        "id": "IBTta36gGbzx"
      },
      "source": [
        "3. ASSIOCIATIVE PROPERTY\n",
        "\n",
        "$(AB)C = A(BC)$\n",
        "\n"
      ]
    },
    {
      "cell_type": "code",
      "metadata": {
        "id": "0MAyz7blI5lI"
      },
      "source": [
        "AB_C = (matrix1 @ matrix2) @ matrix3\n",
        "A_BC = matrix1 @ (matrix2 @ matrix3)"
      ],
      "execution_count": null,
      "outputs": []
    },
    {
      "cell_type": "code",
      "metadata": {
        "colab": {
          "base_uri": "https://localhost:8080/"
        },
        "id": "8Itq5zwgJNdW",
        "outputId": "ba2c5099-24af-4795-b18e-030c7c0d94db"
      },
      "source": [
        "print(\"(AB)C = \\n\", AB_C)\n",
        "print(\"A(BC) = \\n\", A_BC)"
      ],
      "execution_count": null,
      "outputs": [
        {
          "output_type": "stream",
          "text": [
            "(AB)C = \n",
            " [[ 378  462  358]\n",
            " [1050 1248  988]\n",
            " [1722 2034 1618]]\n",
            "A(BC) = \n",
            " [[ 378  462  358]\n",
            " [1050 1248  988]\n",
            " [1722 2034 1618]]\n"
          ],
          "name": "stdout"
        }
      ]
    },
    {
      "cell_type": "code",
      "metadata": {
        "colab": {
          "base_uri": "https://localhost:8080/"
        },
        "id": "R8a1QHC7Ja2S",
        "outputId": "2e1f613d-46a9-468d-d2e8-863e1ecad526"
      },
      "source": [
        "np.array_equiv(AB_C, A_BC)"
      ],
      "execution_count": null,
      "outputs": [
        {
          "output_type": "execute_result",
          "data": {
            "text/plain": [
              "True"
            ]
          },
          "metadata": {
            "tags": []
          },
          "execution_count": 110
        }
      ]
    },
    {
      "cell_type": "markdown",
      "metadata": {
        "id": "ZH6AoaL6J59Y"
      },
      "source": [
        "4. MULTIPLICATIVE IDENTITY PROPERTY\n",
        "\n",
        "$AI = A $\n",
        "\n"
      ]
    },
    {
      "cell_type": "code",
      "metadata": {
        "id": "-YjDG3z6LhhK"
      },
      "source": [
        "I = np.eye(3, dtype = int)\n",
        "AI = matrix1 @ I"
      ],
      "execution_count": null,
      "outputs": []
    },
    {
      "cell_type": "code",
      "metadata": {
        "colab": {
          "base_uri": "https://localhost:8080/"
        },
        "id": "Vy-uDoXFLuYw",
        "outputId": "04e65e1f-c64a-4dea-d12d-ea0354001b5a"
      },
      "source": [
        "print(\"AI = \\n\", AI)\n",
        "print(\"A = \\n\", matrix1)"
      ],
      "execution_count": null,
      "outputs": [
        {
          "output_type": "stream",
          "text": [
            "AI = \n",
            " [[2 1 3]\n",
            " [5 4 6]\n",
            " [8 7 9]]\n",
            "A = \n",
            " [[2 1 3]\n",
            " [5 4 6]\n",
            " [8 7 9]]\n"
          ],
          "name": "stdout"
        }
      ]
    },
    {
      "cell_type": "code",
      "metadata": {
        "colab": {
          "base_uri": "https://localhost:8080/"
        },
        "id": "wYT8dfE7MAEo",
        "outputId": "8077ed65-f734-4ef0-fe4b-6f49c00a0878"
      },
      "source": [
        "np.array_equiv(AI, matrix1)"
      ],
      "execution_count": null,
      "outputs": [
        {
          "output_type": "execute_result",
          "data": {
            "text/plain": [
              "True"
            ]
          },
          "metadata": {
            "tags": []
          },
          "execution_count": 113
        }
      ]
    },
    {
      "cell_type": "markdown",
      "metadata": {
        "id": "Gse2xHPxMOTr"
      },
      "source": [
        "5. MULTIPLICATIVE PROPERTY OF ZERO\n",
        "\n",
        "$A0 = 0$"
      ]
    },
    {
      "cell_type": "code",
      "metadata": {
        "id": "KRHrxUV2Maet"
      },
      "source": [
        "zero = np.zeros(matrix1.shape)\n",
        "A_zero = matrix1 @ zero"
      ],
      "execution_count": null,
      "outputs": []
    },
    {
      "cell_type": "code",
      "metadata": {
        "colab": {
          "base_uri": "https://localhost:8080/"
        },
        "id": "oeGYkLMEO66k",
        "outputId": "aeba4e2c-82af-4eb9-af65-aa1a4220160a"
      },
      "source": [
        "print(\"A0 = \\n\", A_zero)\n",
        "print(\"zero = \\n\", zero)"
      ],
      "execution_count": null,
      "outputs": [
        {
          "output_type": "stream",
          "text": [
            "A0 = \n",
            " [[0. 0. 0.]\n",
            " [0. 0. 0.]\n",
            " [0. 0. 0.]]\n",
            "zero = \n",
            " [[0. 0. 0.]\n",
            " [0. 0. 0.]\n",
            " [0. 0. 0.]]\n"
          ],
          "name": "stdout"
        }
      ]
    },
    {
      "cell_type": "code",
      "metadata": {
        "colab": {
          "base_uri": "https://localhost:8080/"
        },
        "id": "dzpdgfMrPfj_",
        "outputId": "cb6ec416-c9d3-4350-9200-39854195a9f2"
      },
      "source": [
        "np.array_equiv(zero, A_zero)"
      ],
      "execution_count": null,
      "outputs": [
        {
          "output_type": "execute_result",
          "data": {
            "text/plain": [
              "True"
            ]
          },
          "metadata": {
            "tags": []
          },
          "execution_count": 116
        }
      ]
    },
    {
      "cell_type": "markdown",
      "metadata": {
        "id": "cipQ9_3UPqzy"
      },
      "source": [
        "6. TRANSPOSITION PROPERTY OF MULTIPLICATION\n",
        "\n",
        "$A\\cdot A^{-1} = I$\n"
      ]
    },
    {
      "cell_type": "code",
      "metadata": {
        "id": "0_ZUfeJ0zCqy"
      },
      "source": [
        "mat2 = matrix2 @ np.linalg.inv(matrix2)\n",
        "I = np.eye(3,dtype=int)"
      ],
      "execution_count": null,
      "outputs": []
    },
    {
      "cell_type": "code",
      "metadata": {
        "colab": {
          "base_uri": "https://localhost:8080/"
        },
        "id": "2HAiZI5oJxFy",
        "outputId": "ae4a6c7d-7ac9-43aa-b094-a2115bde83a3"
      },
      "source": [
        "print(\"A(A inv) = \\n\", mat2.astype(int))\n",
        "print(\"I = \\n\", I)"
      ],
      "execution_count": null,
      "outputs": [
        {
          "output_type": "stream",
          "text": [
            "A(A inv) = \n",
            " [[1 0 0]\n",
            " [0 1 0]\n",
            " [0 0 1]]\n",
            "I = \n",
            " [[1 0 0]\n",
            " [0 1 0]\n",
            " [0 0 1]]\n"
          ],
          "name": "stdout"
        }
      ]
    },
    {
      "cell_type": "code",
      "metadata": {
        "colab": {
          "base_uri": "https://localhost:8080/"
        },
        "id": "mueT9Z01J-_R",
        "outputId": "c69532d8-2ea6-45ff-d8d0-c9f20cdbaa82"
      },
      "source": [
        "np.array_equiv(mat2.astype(int), np.eye(3,dtype=int))"
      ],
      "execution_count": null,
      "outputs": [
        {
          "output_type": "execute_result",
          "data": {
            "text/plain": [
              "True"
            ]
          },
          "metadata": {
            "tags": []
          },
          "execution_count": 7
        }
      ]
    }
  ]
}