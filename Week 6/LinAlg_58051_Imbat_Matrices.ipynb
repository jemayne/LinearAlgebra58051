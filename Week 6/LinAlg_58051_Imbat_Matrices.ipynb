{
  "nbformat": 4,
  "nbformat_minor": 0,
  "metadata": {
    "colab": {
      "name": "LinAlg_58051_Imbat_Matrices.ipynb",
      "provenance": [],
      "authorship_tag": "ABX9TyMhB/ZvUUbHGMl5Kmteqi4e",
      "include_colab_link": true
    },
    "kernelspec": {
      "name": "python3",
      "display_name": "Python 3"
    },
    "language_info": {
      "name": "python"
    }
  },
  "cells": [
    {
      "cell_type": "markdown",
      "metadata": {
        "id": "view-in-github",
        "colab_type": "text"
      },
      "source": [
        "<a href=\"https://colab.research.google.com/github/jemayne/LinearAlgebra58051/blob/main/Week%206/LinAlg_58051_Imbat_Matrices.ipynb\" target=\"_parent\"><img src=\"https://colab.research.google.com/assets/colab-badge.svg\" alt=\"Open In Colab\"/></a>"
      ]
    },
    {
      "cell_type": "code",
      "metadata": {
        "id": "pHjPQYL6qmAK"
      },
      "source": [
        "import numpy as np"
      ],
      "execution_count": null,
      "outputs": []
    },
    {
      "cell_type": "code",
      "metadata": {
        "id": "Zn64OeqVrSlF"
      },
      "source": [
        "matrix1 = np.array([\n",
        "                    [3,2,4],\n",
        "                    [6,2,7],\n",
        "                    [1,4,2]\n",
        "])\n",
        "\n",
        "matrix2 = np.array([\n",
        "                    [9,2,4],\n",
        "                    [1,5,3],\n",
        "                    [3,1,4]\n",
        "])\n",
        "\n",
        "matrix3 = np.array([\n",
        "                    [1,6,5],\n",
        "                    [3,4,7],\n",
        "                    [2,3,7]\n",
        "])\n",
        "\n",
        "matrix4 = np.array([\n",
        "                    [4,9,5],\n",
        "                    [6,4,1],\n",
        "                    [3,5,7]\n",
        "])\n",
        "\n",
        "matrix5 = np.array([\n",
        "                    [1,2,3],\n",
        "                    [6,2,4],\n",
        "                    [8,7,9]\n",
        "])\n"
      ],
      "execution_count": null,
      "outputs": []
    },
    {
      "cell_type": "code",
      "metadata": {
        "id": "-w7V6lOVI1y-"
      },
      "source": [
        "matrix6 = np.array([\n",
        "                    [0,0,0],\n",
        "                    [0,0,0],\n",
        "                    [0,0,0]\n",
        "])"
      ],
      "execution_count": null,
      "outputs": []
    },
    {
      "cell_type": "code",
      "metadata": {
        "id": "6KKqHE-wsPfl"
      },
      "source": [
        "def mat_desc(matrix):\n",
        "  \n",
        "  if matrix.size > 0:\n",
        "    print(f'Matrix:\\n{matrix}\\n\\nShape:\\t{matrix.shape}\\nRank:\\t{matrix.ndim}\\nSize:\\t{matrix.size}\\n')\n",
        "\n",
        "    square = True if matrix.shape[0] == matrix.shape[1] else False\n",
        "    print(\"The Matrix is square and not empty:\", square)\n",
        "\n",
        "    ones = np.all(matrix == 1)\n",
        "    print(\"The matrix is ones:\", ones)\n",
        "\n",
        "    zeros = not np.any(matrix)\n",
        "    print(\"The Matrix is zeros:\", zeros)\n",
        "\n",
        "    rows = len(matrix);\n",
        "    colums = len(matrix[0]);\n",
        "    identity: True\n",
        "    for iteration in range(0, rows):\n",
        "      for number in range(0, colums):\n",
        "        if(iteration == number and matrix[iteration][number] !=1):\n",
        "          identity = False\n",
        "        if(iteration != number and matrix[iteration][number] !=0):\n",
        "          identity = False\n",
        "\n",
        "    if identity:\n",
        "      print(\"The Matrix is an identity.\")\n",
        "    else:\n",
        "      print(\"The Matrix is not an identity.\")\n",
        "\n",
        "  else:\n",
        "    print(\"Does not apply\")\n",
        "    print(\"Does not apply\")\n",
        "    print(\"Does not apply\")\n",
        "    print(\"Does not apply\")\n",
        "    print(\"Matrix is empty\")\n",
        "    print(\"Does not apply\")\n",
        "    print(\"Does not apply\")\n",
        "    print(\"Does not apply\")"
      ],
      "execution_count": null,
      "outputs": []
    },
    {
      "cell_type": "code",
      "metadata": {
        "colab": {
          "base_uri": "https://localhost:8080/"
        },
        "id": "0p0eW9zgwuV6",
        "outputId": "9253dfb3-04f6-42a7-dad5-050b7ebbb2ca"
      },
      "source": [
        "mat_desc(matrix1)"
      ],
      "execution_count": null,
      "outputs": [
        {
          "output_type": "stream",
          "text": [
            "Matrix:\n",
            "[[3 2 4]\n",
            " [6 2 7]\n",
            " [1 4 2]]\n",
            "\n",
            "Shape:\t(3, 3)\n",
            "Rank:\t2\n",
            "Size:\t9\n",
            "\n",
            "The Matrix is square, and not empty: True\n",
            "The matrix is ones: False\n",
            "The Matrix is zeros: False\n",
            "The Matrix is not an identity.\n"
          ],
          "name": "stdout"
        }
      ]
    },
    {
      "cell_type": "code",
      "metadata": {
        "colab": {
          "base_uri": "https://localhost:8080/"
        },
        "id": "80PJfqQizt9z",
        "outputId": "a0c654fa-d522-4454-9be6-e1f34c1182f6"
      },
      "source": [
        "mat_desc(matrix2)"
      ],
      "execution_count": null,
      "outputs": [
        {
          "output_type": "stream",
          "text": [
            "Matrix:\n",
            "[[9 2 4]\n",
            " [1 5 3]\n",
            " [3 1 4]]\n",
            "\n",
            "Shape:\t(3, 3)\n",
            "Rank:\t2\n",
            "Size:\t9\n",
            "\n",
            "The Matrix is square, and not empty: True\n",
            "The matrix is ones: False\n",
            "The Matrix is zeros: False\n",
            "The Matrix is not an identity.\n"
          ],
          "name": "stdout"
        }
      ]
    },
    {
      "cell_type": "code",
      "metadata": {
        "colab": {
          "base_uri": "https://localhost:8080/"
        },
        "id": "Jz7dW6Ph0Afp",
        "outputId": "4c0fe928-41d7-4e49-c88c-df487d211b77"
      },
      "source": [
        "mat_desc(matrix3)"
      ],
      "execution_count": null,
      "outputs": [
        {
          "output_type": "stream",
          "text": [
            "Matrix:\n",
            "[[1 6 5]\n",
            " [3 4 7]\n",
            " [2 3 7]]\n",
            "\n",
            "Shape:\t(3, 3)\n",
            "Rank:\t2\n",
            "Size:\t9\n",
            "\n",
            "The Matrix is square, and not empty: True\n",
            "The matrix is ones: False\n",
            "The Matrix is zeros: False\n",
            "The Matrix is not an identity.\n"
          ],
          "name": "stdout"
        }
      ]
    },
    {
      "cell_type": "code",
      "metadata": {
        "colab": {
          "base_uri": "https://localhost:8080/"
        },
        "id": "4vp7HmfV1xO-",
        "outputId": "1190ce22-222c-4b64-d441-7e5a9803fc22"
      },
      "source": [
        "mat_desc(matrix4)"
      ],
      "execution_count": null,
      "outputs": [
        {
          "output_type": "stream",
          "text": [
            "Matrix:\n",
            "[[4 9 5]\n",
            " [6 4 1]\n",
            " [3 5 7]]\n",
            "\n",
            "Shape:\t(3, 3)\n",
            "Rank:\t2\n",
            "Size:\t9\n",
            "\n",
            "The Matrix is square, and not empty: True\n",
            "The matrix is ones: False\n",
            "The Matrix is zeros: False\n",
            "The Matrix is not an identity.\n"
          ],
          "name": "stdout"
        }
      ]
    },
    {
      "cell_type": "code",
      "metadata": {
        "colab": {
          "base_uri": "https://localhost:8080/"
        },
        "id": "8bThU_lQ1zQB",
        "outputId": "f40a9871-87ff-49f8-8621-beb31596bd39"
      },
      "source": [
        "mat_desc(matrix5)"
      ],
      "execution_count": null,
      "outputs": [
        {
          "output_type": "stream",
          "text": [
            "Matrix:\n",
            "[[1 2 3]\n",
            " [6 2 4]\n",
            " [8 7 9]]\n",
            "\n",
            "Shape:\t(3, 3)\n",
            "Rank:\t2\n",
            "Size:\t9\n",
            "\n",
            "The Matrix is square, and not empty: True\n",
            "The matrix is ones: False\n",
            "The Matrix is zeros: False\n",
            "The Matrix is not an identity.\n"
          ],
          "name": "stdout"
        }
      ]
    },
    {
      "cell_type": "code",
      "metadata": {
        "colab": {
          "base_uri": "https://localhost:8080/"
        },
        "id": "ThkWhFWV3Hgb",
        "outputId": "7357d5fc-2382-4893-bb4c-166252a0dba5"
      },
      "source": [
        "mat_desc(matrix6)"
      ],
      "execution_count": null,
      "outputs": [
        {
          "output_type": "stream",
          "text": [
            "Matrix:\n",
            "[[0 0 0]\n",
            " [0 0 0]\n",
            " [0 0 0]]\n",
            "\n",
            "Shape:\t(3, 3)\n",
            "Rank:\t2\n",
            "Size:\t9\n",
            "\n",
            "The Matrix is square, and not empty: True\n",
            "The matrix is ones: False\n",
            "The Matrix is zeros: True\n",
            "The Matrix is not an identity.\n"
          ],
          "name": "stdout"
        }
      ]
    },
    {
      "cell_type": "code",
      "metadata": {
        "id": "CfNynf5175X1"
      },
      "source": [
        "matrix1 = np.array([\n",
        "                    [3,2,4],\n",
        "                    [6,2,7],\n",
        "                    [1,4,2]\n",
        "])\n",
        "\n",
        "matrix2 = np.array([\n",
        "                    [9,2,4],\n",
        "                    [1,5,3],\n",
        "                    [3,1,4]\n",
        "])\n",
        "\n",
        "matrix3 = np.array([\n",
        "                    [1,6,5],\n",
        "                    [3,4,7],\n",
        "                    [2,3,7]\n",
        "])\n",
        "\n",
        "matrix4 = np.array([\n",
        "                    [4,9,5],\n",
        "                    [6,4,1],\n",
        "                    [3,5,7]\n",
        "])\n",
        "\n",
        "matrix5 = np.array([\n",
        "                    [1,2,3],\n",
        "                    [6,2,4],\n",
        "                    [8,7,9]\n",
        "])\n"
      ],
      "execution_count": null,
      "outputs": []
    },
    {
      "cell_type": "code",
      "metadata": {
        "id": "DEkS61-2H3Lm"
      },
      "source": [
        "def mat_operations(A, B):\n",
        "  print(\"First Matrix: \\n\", A)\n",
        "  scalar1 = isinstance(A, (int, bytes, float, complex))\n",
        "  print(\"The Matrix is scalar.\", scalar1)\n",
        "\n",
        "  print(\"Second Matrix: \\n\", B)\n",
        "  scalar2 = isinstance(B, (int, bytes, float, complex))\n",
        "  print(\"The Matrix is scalar.\", scalar2)\n",
        "\n",
        "  mat_1 = isinstance(A, np.ndarray)\n",
        "  mat_2 = isinstance(B, np.ndarray)\n",
        "\n",
        "  if scalar1 == True or scalar2 == True or mat_1 == True and mat_2 == True and A.shape == B.shape:\n",
        "    print(f'\\nMatA + MatB = \\n{A+B}\\n\\nMatA - MatB=\\n{A-B}\\n\\nMatA * MatB=\\n{A*B}\\n\\nMatA / MatB =\\t\\n{A/B}')\n",
        "  elif mat_2 == True and mat_2 == True and A.shape == B.shape:\n",
        "    print(\"Cannot perform the operations\")\n",
        "\n",
        "\n",
        "\n"
      ],
      "execution_count": null,
      "outputs": []
    },
    {
      "cell_type": "code",
      "metadata": {
        "colab": {
          "base_uri": "https://localhost:8080/"
        },
        "id": "Zs_vJAgMK8tq",
        "outputId": "22d65303-1bec-417b-9392-3140011f39c7"
      },
      "source": [
        "mat_operations(matrix1, matrix2)"
      ],
      "execution_count": null,
      "outputs": [
        {
          "output_type": "stream",
          "text": [
            "First Matrix: \n",
            " [[3 2 4]\n",
            " [6 2 7]\n",
            " [1 4 2]]\n",
            "The Matrix is scalar. False\n",
            "Second Matrix: \n",
            " [[9 2 4]\n",
            " [1 5 3]\n",
            " [3 1 4]]\n",
            "The Matrix is scalar. False\n",
            "\n",
            "MatA + MatB = \n",
            "[[12  4  8]\n",
            " [ 7  7 10]\n",
            " [ 4  5  6]]\n",
            "\n",
            "MatA - MatB=\n",
            "[[-6  0  0]\n",
            " [ 5 -3  4]\n",
            " [-2  3 -2]]\n",
            "\n",
            "MatA * MatB=\n",
            "[[27  4 16]\n",
            " [ 6 10 21]\n",
            " [ 3  4  8]]\n",
            "\n",
            "MatA / MatB =\t\n",
            "[[0.33333333 1.         1.        ]\n",
            " [6.         0.4        2.33333333]\n",
            " [0.33333333 4.         0.5       ]]\n"
          ],
          "name": "stdout"
        }
      ]
    }
  ]
}